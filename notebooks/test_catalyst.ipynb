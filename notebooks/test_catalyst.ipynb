{
 "cells": [
  {
   "cell_type": "code",
   "execution_count": 6,
   "metadata": {},
   "outputs": [],
   "source": [
    "from catalyst import run_algorithm"
   ]
  },
  {
   "cell_type": "code",
   "execution_count": 1,
   "metadata": {},
   "outputs": [
    {
     "name": "stdout",
     "output_type": "stream",
     "text": [
      "Usage: catalyst run [OPTIONS]\r\n",
      "\r\n",
      "  Run a backtest for the given algorithm.\r\n",
      "\r\n",
      "Options:\r\n",
      "  -f, --algofile FILENAME         The file that contains the algorithm to run.\r\n",
      "  -t, --algotext TEXT             The algorithm script to run.\r\n",
      "  -D, --define TEXT               Define a name to be bound in the namespace\r\n",
      "                                  before executing the algotext. For example\r\n",
      "                                  '-Dname=value'. The value may be any python\r\n",
      "                                  expression. These are evaluated in order so\r\n",
      "                                  they may refer to previously defined names.\r\n",
      "  --data-frequency [minute|daily]\r\n",
      "                                  The data frequency of the simulation.\r\n",
      "                                  [default: daily]\r\n",
      "  --capital-base FLOAT            The starting capital for the simulation.\r\n",
      "  -b, --bundle BUNDLE-NAME        The data bundle to use for the simulation.\r\n",
      "                                  [default: poloniex]\r\n",
      "  --bundle-timestamp TIMESTAMP    The date to lookup data on or before.\r\n",
      "                                  [default: <current-time>]\r\n",
      "  -s, --start DATE                The start date of the simulation.\r\n",
      "  -e, --end DATE                  The end date of the simulation.\r\n",
      "  -o, --output FILENAME           The location to write the perf data. If this\r\n",
      "                                  is '-' the perf will be written to stdout.\r\n",
      "                                  [default: -]\r\n",
      "  --print-algo / --no-print-algo  Print the algorithm to stdout.\r\n",
      "  -x, --exchange-name TEXT        The name of the targeted exchange.\r\n",
      "  -n, --algo-namespace TEXT       A label assigned to the algorithm for data\r\n",
      "                                  storage purposes.\r\n",
      "  -c, --quote-currency TEXT       The quote currency used to calculate\r\n",
      "                                  statistics (e.g. usd, btc, eth).\r\n",
      "  --help                          Show this message and exit.\r\n"
     ]
    }
   ],
   "source": [
    "!catalyst run --help"
   ]
  },
  {
   "cell_type": "code",
   "execution_count": 2,
   "metadata": {},
   "outputs": [
    {
     "name": "stdout",
     "output_type": "stream",
     "text": [
      "Usage: catalyst ingest-exchange [OPTIONS]\r\n",
      "\r\n",
      "  Ingest data for the given exchange.\r\n",
      "\r\n",
      "Options:\r\n",
      "  -x, --exchange-name TEXT        The name of the exchange bundle to ingest.\r\n",
      "  -f, --data-frequency [minute,daily|daily|minute|daily,minute]\r\n",
      "                                  The data frequency of the desired OHLCV\r\n",
      "                                  bars.  [default: daily]\r\n",
      "  -s, --start DATE                The start date of the data range. (default:\r\n",
      "                                  one year from end date)\r\n",
      "  -e, --end DATE                  The end date of the data range. (default:\r\n",
      "                                  today)\r\n",
      "  -i, --include-symbols TEXT      A list of symbols to ingest (optional comma\r\n",
      "                                  separated list)\r\n",
      "  --exclude-symbols TEXT          A list of symbols to exclude from the\r\n",
      "                                  ingestion (optional comma separated list)\r\n",
      "  --csv TEXT                      The path of a CSV file containing the data.\r\n",
      "                                  If specified, start, end, include-symbols\r\n",
      "                                  and exclude-symbols will be ignored.\r\n",
      "                                  Instead,all data in the file will be\r\n",
      "                                  ingested.\r\n",
      "  --show-progress / --no-show-progress\r\n",
      "                                  Print progress information to the terminal.\r\n",
      "  --verbose / --no-verbose`       Show a progress indicator for every currency\r\n",
      "                                  pair.\r\n",
      "  --validate / --no-validate`     Report potential anomalies found in data\r\n",
      "                                  bundles.\r\n",
      "  --help                          Show this message and exit.\r\n"
     ]
    }
   ],
   "source": [
    "!catalyst ingest-exchange --help"
   ]
  },
  {
   "cell_type": "code",
   "execution_count": 3,
   "metadata": {},
   "outputs": [
    {
     "name": "stdout",
     "output_type": "stream",
     "text": [
      "Trying to ingest exchange bundle bitfinex...\n",
      "\u001b[?25l    [====================================]  Ingesting minute price data on bitfinex:  100%             \u001b[?25h\n"
     ]
    }
   ],
   "source": [
    "!catalyst ingest-exchange -x bitfinex -i btc_usd -f minute"
   ]
  },
  {
   "cell_type": "code",
   "execution_count": 4,
   "metadata": {},
   "outputs": [
    {
     "name": "stdout",
     "output_type": "stream",
     "text": [
      "Trying to ingest exchange bundle bitfinex...\n",
      "\u001b[?25l    [====================================]  Ingesting daily price data on bitfinex:  100%             \u001b[?25h\n"
     ]
    }
   ],
   "source": [
    "!catalyst ingest-exchange -x bitfinex -i btc_usd"
   ]
  },
  {
   "cell_type": "code",
   "execution_count": 7,
   "metadata": {},
   "outputs": [
    {
     "name": "stdout",
     "output_type": "stream",
     "text": [
      "Usage: catalyst run [OPTIONS]\r\n",
      "\r\n",
      "Error: Invalid value for \"-f\" / \"--algofile\": Could not open file: buy_btc_simple.py: No such file or directory\r\n"
     ]
    }
   ],
   "source": [
    "!catalyst run -f buy_btc_simple.py -x bitfinex --start 2016-1-1 --end 2017-9-30 -c usd --capital-base 100000 -o buy_btc_simple_out.pickle"
   ]
  },
  {
   "cell_type": "code",
   "execution_count": 4,
   "metadata": {},
   "outputs": [
    {
     "data": {
      "text/html": [
       "<div>\n",
       "<table border=\"1\" class=\"dataframe\">\n",
       "  <thead>\n",
       "    <tr style=\"text-align: right;\">\n",
       "      <th></th>\n",
       "      <th>algo_volatility</th>\n",
       "      <th>algorithm_period_return</th>\n",
       "      <th>alpha</th>\n",
       "      <th>benchmark_period_return</th>\n",
       "      <th>benchmark_volatility</th>\n",
       "      <th>beta</th>\n",
       "      <th>btc</th>\n",
       "      <th>capital_used</th>\n",
       "      <th>ending_cash</th>\n",
       "      <th>ending_exposure</th>\n",
       "      <th>...</th>\n",
       "      <th>short_exposure</th>\n",
       "      <th>short_value</th>\n",
       "      <th>shorts_count</th>\n",
       "      <th>sortino</th>\n",
       "      <th>starting_cash</th>\n",
       "      <th>starting_exposure</th>\n",
       "      <th>starting_value</th>\n",
       "      <th>trading_days</th>\n",
       "      <th>transactions</th>\n",
       "      <th>treasury_period_return</th>\n",
       "    </tr>\n",
       "  </thead>\n",
       "  <tbody>\n",
       "    <tr>\n",
       "      <th>2016-01-01 23:59:00+00:00</th>\n",
       "      <td>NaN</td>\n",
       "      <td>0.000000</td>\n",
       "      <td>None</td>\n",
       "      <td>0.001000</td>\n",
       "      <td>NaN</td>\n",
       "      <td>None</td>\n",
       "      <td>433.98</td>\n",
       "      <td>0.000000</td>\n",
       "      <td>100000.000000</td>\n",
       "      <td>0.00</td>\n",
       "      <td>...</td>\n",
       "      <td>0</td>\n",
       "      <td>0</td>\n",
       "      <td>0</td>\n",
       "      <td>NaN</td>\n",
       "      <td>100000.000000</td>\n",
       "      <td>0.00</td>\n",
       "      <td>0.00</td>\n",
       "      <td>1</td>\n",
       "      <td>[]</td>\n",
       "      <td>0.001</td>\n",
       "    </tr>\n",
       "    <tr>\n",
       "      <th>2016-01-02 23:59:00+00:00</th>\n",
       "      <td>0.000102</td>\n",
       "      <td>-0.000009</td>\n",
       "      <td>None</td>\n",
       "      <td>0.002001</td>\n",
       "      <td>0.0</td>\n",
       "      <td>None</td>\n",
       "      <td>432.70</td>\n",
       "      <td>-433.608757</td>\n",
       "      <td>99566.391243</td>\n",
       "      <td>432.70</td>\n",
       "      <td>...</td>\n",
       "      <td>0</td>\n",
       "      <td>0</td>\n",
       "      <td>0</td>\n",
       "      <td>-11.224972</td>\n",
       "      <td>100000.000000</td>\n",
       "      <td>0.00</td>\n",
       "      <td>0.00</td>\n",
       "      <td>2</td>\n",
       "      <td>[{'amount': 1, 'dt': 2016-01-02 23:59:00+00:00...</td>\n",
       "      <td>0.001</td>\n",
       "    </tr>\n",
       "    <tr>\n",
       "      <th>2016-01-03 23:59:00+00:00</th>\n",
       "      <td>0.000442</td>\n",
       "      <td>-0.000061</td>\n",
       "      <td>None</td>\n",
       "      <td>0.003003</td>\n",
       "      <td>0.0</td>\n",
       "      <td>None</td>\n",
       "      <td>428.39</td>\n",
       "      <td>-429.289705</td>\n",
       "      <td>99137.101539</td>\n",
       "      <td>856.78</td>\n",
       "      <td>...</td>\n",
       "      <td>0</td>\n",
       "      <td>0</td>\n",
       "      <td>0</td>\n",
       "      <td>-10.603751</td>\n",
       "      <td>99566.391243</td>\n",
       "      <td>432.70</td>\n",
       "      <td>432.70</td>\n",
       "      <td>3</td>\n",
       "      <td>[{'amount': 1, 'dt': 2016-01-03 23:59:00+00:00...</td>\n",
       "      <td>0.001</td>\n",
       "    </tr>\n",
       "    <tr>\n",
       "      <th>2016-01-04 23:59:00+00:00</th>\n",
       "      <td>0.000883</td>\n",
       "      <td>0.000020</td>\n",
       "      <td>None</td>\n",
       "      <td>0.004006</td>\n",
       "      <td>0.0</td>\n",
       "      <td>None</td>\n",
       "      <td>432.90</td>\n",
       "      <td>-433.809177</td>\n",
       "      <td>98703.292362</td>\n",
       "      <td>1298.70</td>\n",
       "      <td>...</td>\n",
       "      <td>0</td>\n",
       "      <td>0</td>\n",
       "      <td>0</td>\n",
       "      <td>2.990961</td>\n",
       "      <td>99137.101539</td>\n",
       "      <td>856.78</td>\n",
       "      <td>856.78</td>\n",
       "      <td>4</td>\n",
       "      <td>[{'amount': 1, 'dt': 2016-01-04 23:59:00+00:00...</td>\n",
       "      <td>0.001</td>\n",
       "    </tr>\n",
       "    <tr>\n",
       "      <th>2016-01-05 23:59:00+00:00</th>\n",
       "      <td>0.000831</td>\n",
       "      <td>-0.000021</td>\n",
       "      <td>None</td>\n",
       "      <td>0.005010</td>\n",
       "      <td>0.0</td>\n",
       "      <td>None</td>\n",
       "      <td>431.84</td>\n",
       "      <td>-432.746950</td>\n",
       "      <td>98270.545412</td>\n",
       "      <td>1727.36</td>\n",
       "      <td>...</td>\n",
       "      <td>0</td>\n",
       "      <td>0</td>\n",
       "      <td>0</td>\n",
       "      <td>-2.224317</td>\n",
       "      <td>98703.292362</td>\n",
       "      <td>1298.70</td>\n",
       "      <td>1298.70</td>\n",
       "      <td>5</td>\n",
       "      <td>[{'amount': 1, 'dt': 2016-01-05 23:59:00+00:00...</td>\n",
       "      <td>0.001</td>\n",
       "    </tr>\n",
       "  </tbody>\n",
       "</table>\n",
       "<p>5 rows × 39 columns</p>\n",
       "</div>"
      ],
      "text/plain": [
       "                           algo_volatility  algorithm_period_return alpha  \\\n",
       "2016-01-01 23:59:00+00:00              NaN                 0.000000  None   \n",
       "2016-01-02 23:59:00+00:00         0.000102                -0.000009  None   \n",
       "2016-01-03 23:59:00+00:00         0.000442                -0.000061  None   \n",
       "2016-01-04 23:59:00+00:00         0.000883                 0.000020  None   \n",
       "2016-01-05 23:59:00+00:00         0.000831                -0.000021  None   \n",
       "\n",
       "                           benchmark_period_return  benchmark_volatility  \\\n",
       "2016-01-01 23:59:00+00:00                 0.001000                   NaN   \n",
       "2016-01-02 23:59:00+00:00                 0.002001                   0.0   \n",
       "2016-01-03 23:59:00+00:00                 0.003003                   0.0   \n",
       "2016-01-04 23:59:00+00:00                 0.004006                   0.0   \n",
       "2016-01-05 23:59:00+00:00                 0.005010                   0.0   \n",
       "\n",
       "                           beta     btc  capital_used    ending_cash  \\\n",
       "2016-01-01 23:59:00+00:00  None  433.98      0.000000  100000.000000   \n",
       "2016-01-02 23:59:00+00:00  None  432.70   -433.608757   99566.391243   \n",
       "2016-01-03 23:59:00+00:00  None  428.39   -429.289705   99137.101539   \n",
       "2016-01-04 23:59:00+00:00  None  432.90   -433.809177   98703.292362   \n",
       "2016-01-05 23:59:00+00:00  None  431.84   -432.746950   98270.545412   \n",
       "\n",
       "                           ending_exposure           ...            \\\n",
       "2016-01-01 23:59:00+00:00             0.00           ...             \n",
       "2016-01-02 23:59:00+00:00           432.70           ...             \n",
       "2016-01-03 23:59:00+00:00           856.78           ...             \n",
       "2016-01-04 23:59:00+00:00          1298.70           ...             \n",
       "2016-01-05 23:59:00+00:00          1727.36           ...             \n",
       "\n",
       "                           short_exposure  short_value  shorts_count  \\\n",
       "2016-01-01 23:59:00+00:00               0            0             0   \n",
       "2016-01-02 23:59:00+00:00               0            0             0   \n",
       "2016-01-03 23:59:00+00:00               0            0             0   \n",
       "2016-01-04 23:59:00+00:00               0            0             0   \n",
       "2016-01-05 23:59:00+00:00               0            0             0   \n",
       "\n",
       "                             sortino  starting_cash  starting_exposure  \\\n",
       "2016-01-01 23:59:00+00:00        NaN  100000.000000               0.00   \n",
       "2016-01-02 23:59:00+00:00 -11.224972  100000.000000               0.00   \n",
       "2016-01-03 23:59:00+00:00 -10.603751   99566.391243             432.70   \n",
       "2016-01-04 23:59:00+00:00   2.990961   99137.101539             856.78   \n",
       "2016-01-05 23:59:00+00:00  -2.224317   98703.292362            1298.70   \n",
       "\n",
       "                           starting_value  trading_days  \\\n",
       "2016-01-01 23:59:00+00:00            0.00             1   \n",
       "2016-01-02 23:59:00+00:00            0.00             2   \n",
       "2016-01-03 23:59:00+00:00          432.70             3   \n",
       "2016-01-04 23:59:00+00:00          856.78             4   \n",
       "2016-01-05 23:59:00+00:00         1298.70             5   \n",
       "\n",
       "                                                                transactions  \\\n",
       "2016-01-01 23:59:00+00:00                                                 []   \n",
       "2016-01-02 23:59:00+00:00  [{'amount': 1, 'dt': 2016-01-02 23:59:00+00:00...   \n",
       "2016-01-03 23:59:00+00:00  [{'amount': 1, 'dt': 2016-01-03 23:59:00+00:00...   \n",
       "2016-01-04 23:59:00+00:00  [{'amount': 1, 'dt': 2016-01-04 23:59:00+00:00...   \n",
       "2016-01-05 23:59:00+00:00  [{'amount': 1, 'dt': 2016-01-05 23:59:00+00:00...   \n",
       "\n",
       "                           treasury_period_return  \n",
       "2016-01-01 23:59:00+00:00                   0.001  \n",
       "2016-01-02 23:59:00+00:00                   0.001  \n",
       "2016-01-03 23:59:00+00:00                   0.001  \n",
       "2016-01-04 23:59:00+00:00                   0.001  \n",
       "2016-01-05 23:59:00+00:00                   0.001  \n",
       "\n",
       "[5 rows x 39 columns]"
      ]
     },
     "metadata": {},
     "output_type": "display_data"
    }
   ],
   "source": [
    "import pandas as pd\n",
    "perf = pd.read_pickle('buy_btc_simple_out.pickle') # read in perf DataFrame\n",
    "display(perf.head())"
   ]
  },
  {
   "cell_type": "code",
   "execution_count": 8,
   "metadata": {},
   "outputs": [
    {
     "name": "stdout",
     "output_type": "stream",
     "text": [
      "python: can't open file 'print_results.py': [Errno 2] No such file or directory\r\n"
     ]
    }
   ],
   "source": [
    "!python print_results.py"
   ]
  },
  {
   "cell_type": "code",
   "execution_count": null,
   "metadata": {},
   "outputs": [],
   "source": []
  }
 ],
 "metadata": {
  "kernelspec": {
   "display_name": "Python 3",
   "language": "python",
   "name": "python3"
  },
  "language_info": {
   "codemirror_mode": {
    "name": "ipython",
    "version": 3
   },
   "file_extension": ".py",
   "mimetype": "text/x-python",
   "name": "python",
   "nbconvert_exporter": "python",
   "pygments_lexer": "ipython3",
   "version": "3.6.10"
  }
 },
 "nbformat": 4,
 "nbformat_minor": 4
}
