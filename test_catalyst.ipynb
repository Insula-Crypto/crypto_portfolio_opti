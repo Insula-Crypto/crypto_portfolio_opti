{
 "cells": [
  {
   "cell_type": "code",
   "execution_count": 1,
   "metadata": {},
   "outputs": [
    {
     "name": "stdout",
     "output_type": "stream",
     "text": [
      "Usage: catalyst run [OPTIONS]\r\n",
      "\r\n",
      "  Run a backtest for the given algorithm.\r\n",
      "\r\n",
      "Options:\r\n",
      "  -f, --algofile FILENAME         The file that contains the algorithm to run.\r\n",
      "  -t, --algotext TEXT             The algorithm script to run.\r\n",
      "  -D, --define TEXT               Define a name to be bound in the namespace\r\n",
      "                                  before executing the algotext. For example\r\n",
      "                                  '-Dname=value'. The value may be any python\r\n",
      "                                  expression. These are evaluated in order so\r\n",
      "                                  they may refer to previously defined names.\r\n",
      "  --data-frequency [minute|daily]\r\n",
      "                                  The data frequency of the simulation.\r\n",
      "                                  [default: daily]\r\n",
      "  --capital-base FLOAT            The starting capital for the simulation.\r\n",
      "  -b, --bundle BUNDLE-NAME        The data bundle to use for the simulation.\r\n",
      "                                  [default: poloniex]\r\n",
      "  --bundle-timestamp TIMESTAMP    The date to lookup data on or before.\r\n",
      "                                  [default: <current-time>]\r\n",
      "  -s, --start DATE                The start date of the simulation.\r\n",
      "  -e, --end DATE                  The end date of the simulation.\r\n",
      "  -o, --output FILENAME           The location to write the perf data. If this\r\n",
      "                                  is '-' the perf will be written to stdout.\r\n",
      "                                  [default: -]\r\n",
      "  --print-algo / --no-print-algo  Print the algorithm to stdout.\r\n",
      "  -x, --exchange-name TEXT        The name of the targeted exchange.\r\n",
      "  -n, --algo-namespace TEXT       A label assigned to the algorithm for data\r\n",
      "                                  storage purposes.\r\n",
      "  -c, --quote-currency TEXT       The quote currency used to calculate\r\n",
      "                                  statistics (e.g. usd, btc, eth).\r\n",
      "  --help                          Show this message and exit.\r\n"
     ]
    }
   ],
   "source": [
    "!catalyst run --help"
   ]
  },
  {
   "cell_type": "code",
   "execution_count": 2,
   "metadata": {},
   "outputs": [
    {
     "name": "stdout",
     "output_type": "stream",
     "text": [
      "Usage: catalyst ingest-exchange [OPTIONS]\r\n",
      "\r\n",
      "  Ingest data for the given exchange.\r\n",
      "\r\n",
      "Options:\r\n",
      "  -x, --exchange-name TEXT        The name of the exchange bundle to ingest.\r\n",
      "  -f, --data-frequency [minute,daily|daily|minute|daily,minute]\r\n",
      "                                  The data frequency of the desired OHLCV\r\n",
      "                                  bars.  [default: daily]\r\n",
      "  -s, --start DATE                The start date of the data range. (default:\r\n",
      "                                  one year from end date)\r\n",
      "  -e, --end DATE                  The end date of the data range. (default:\r\n",
      "                                  today)\r\n",
      "  -i, --include-symbols TEXT      A list of symbols to ingest (optional comma\r\n",
      "                                  separated list)\r\n",
      "  --exclude-symbols TEXT          A list of symbols to exclude from the\r\n",
      "                                  ingestion (optional comma separated list)\r\n",
      "  --csv TEXT                      The path of a CSV file containing the data.\r\n",
      "                                  If specified, start, end, include-symbols\r\n",
      "                                  and exclude-symbols will be ignored.\r\n",
      "                                  Instead,all data in the file will be\r\n",
      "                                  ingested.\r\n",
      "  --show-progress / --no-show-progress\r\n",
      "                                  Print progress information to the terminal.\r\n",
      "  --verbose / --no-verbose`       Show a progress indicator for every currency\r\n",
      "                                  pair.\r\n",
      "  --validate / --no-validate`     Report potential anomalies found in data\r\n",
      "                                  bundles.\r\n",
      "  --help                          Show this message and exit.\r\n"
     ]
    }
   ],
   "source": [
    "!catalyst ingest-exchange --help"
   ]
  },
  {
   "cell_type": "code",
   "execution_count": 3,
   "metadata": {},
   "outputs": [
    {
     "name": "stdout",
     "output_type": "stream",
     "text": [
      "Trying to ingest exchange bundle bitfinex...\n",
      "\u001b[?25l    [====================================]  Ingesting minute price data on bitfinex:  100%             \u001b[?25h\n"
     ]
    }
   ],
   "source": [
    "!catalyst ingest-exchange -x bitfinex -i btc_usd -f minute"
   ]
  },
  {
   "cell_type": "code",
   "execution_count": 4,
   "metadata": {},
   "outputs": [
    {
     "name": "stdout",
     "output_type": "stream",
     "text": [
      "Trying to ingest exchange bundle bitfinex...\n",
      "\u001b[?25l    [====================================]  Ingesting daily price data on bitfinex:  100%             \u001b[?25h\n"
     ]
    }
   ],
   "source": [
    "!catalyst ingest-exchange -x bitfinex -i btc_usd"
   ]
  },
  {
   "cell_type": "code",
   "execution_count": 5,
   "metadata": {},
   "outputs": [
    {
     "name": "stdout",
     "output_type": "stream",
     "text": [
      "Usage: catalyst run [OPTIONS]\r\n",
      "\r\n",
      "Error: Invalid value for \"-f\" / \"--algofile\": Could not open file: buy_btc_simple.py: No such file or directory\r\n"
     ]
    }
   ],
   "source": [
    "!catalyst run -f buy_btc_simple.py -x bitfinex --start 2016-1-1 --end 2017-9-30 -c usd --capital-base 100000 -o buy_btc_simple_out.pickle"
   ]
  },
  {
   "cell_type": "code",
   "execution_count": 8,
   "metadata": {},
   "outputs": [
    {
     "name": "stdout",
     "output_type": "stream",
     "text": [
      "test_catalyst.ipynb\r\n"
     ]
    }
   ],
   "source": []
  },
  {
   "cell_type": "code",
   "execution_count": null,
   "metadata": {},
   "outputs": [],
   "source": []
  }
 ],
 "metadata": {
  "kernelspec": {
   "display_name": "Python 3",
   "language": "python",
   "name": "python3"
  },
  "language_info": {
   "codemirror_mode": {
    "name": "ipython",
    "version": 3
   },
   "file_extension": ".py",
   "mimetype": "text/x-python",
   "name": "python",
   "nbconvert_exporter": "python",
   "pygments_lexer": "ipython3",
   "version": "3.6.10"
  }
 },
 "nbformat": 4,
 "nbformat_minor": 4
}
